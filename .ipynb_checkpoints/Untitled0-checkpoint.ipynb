{
 "metadata": {
  "name": "",
  "signature": "sha256:5c2c5558404ebf18e4882194124417e25a5ee72f3696d0b94c8b2a13ff8ca0e2"
 },
 "nbformat": 3,
 "nbformat_minor": 0,
 "worksheets": []
}